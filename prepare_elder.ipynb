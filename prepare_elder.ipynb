{
 "cells": [
  {
   "cell_type": "code",
   "execution_count": null,
   "id": "08f2cb37-0406-46ea-a1ff-14e4d114f0df",
   "metadata": {},
   "outputs": [],
   "source": [
    "# https://github.com/VISAI-DATAWOW/Thai-Elderly-Speech-dataset/releases/tag/v1.0.0"
   ]
  },
  {
   "cell_type": "code",
   "execution_count": 11,
   "id": "8a1d1af0-4ec3-4783-933b-e85a1561315f",
   "metadata": {},
   "outputs": [],
   "source": [
    "import json\n",
    "import pandas as pd\n",
    "from sklearn.model_selection import train_test_split"
   ]
  },
  {
   "cell_type": "markdown",
   "id": "2738e460-c2c8-439e-b3cf-88d5217375c8",
   "metadata": {},
   "source": [
    "# Smart Home"
   ]
  },
  {
   "cell_type": "code",
   "execution_count": 5,
   "id": "fc28d89d-6f49-4c56-876f-aed2fef8a2d8",
   "metadata": {},
   "outputs": [],
   "source": [
    "with open(\"/mnt/d/data/Dataset/Smarthome/transcription.json\") as f: \n",
    "    smart_home = json.load(f)"
   ]
  },
  {
   "cell_type": "code",
   "execution_count": 9,
   "id": "0ac63dc0-f476-4c6b-98e1-223532ff1523",
   "metadata": {},
   "outputs": [],
   "source": [
    "smart_home_df = pd.DataFrame([[row[\"filename\"]+\".wav\", row[\"transcript\"]] for row in smart_home], columns=[\"path\", \"sentence\"])"
   ]
  },
  {
   "cell_type": "code",
   "execution_count": 12,
   "id": "82f4a5fa-10ee-4e61-9545-8531c9ed4c73",
   "metadata": {},
   "outputs": [],
   "source": [
    "smart_home_train, smart_home_other = train_test_split(smart_home_df, test_size=0.2)\n",
    "smart_home_test, smart_home_dev = train_test_split(smart_home_other, test_size=0.5)"
   ]
  },
  {
   "cell_type": "code",
   "execution_count": 14,
   "id": "90f4122a-3eb8-4ebd-bf92-f6f0045e5f4d",
   "metadata": {},
   "outputs": [],
   "source": [
    "smart_home_train.to_csv(\"smart_home_train.csv\", index=False)\n",
    "smart_home_test.to_csv(\"smart_home_test.csv\", index=False)\n",
    "smart_home_dev.to_csv(\"smart_home_dev.csv\", index=False)"
   ]
  },
  {
   "cell_type": "markdown",
   "id": "62329bd2-6173-4180-ba1f-7755f9fe2013",
   "metadata": {},
   "source": [
    "## Health Care"
   ]
  },
  {
   "cell_type": "code",
   "execution_count": 16,
   "id": "4c42d0f7-dd1f-4081-8d64-daae438c5bfa",
   "metadata": {},
   "outputs": [],
   "source": [
    "with open(\"/mnt/d/data/Dataset/Healthcare/transcription.json\") as f: \n",
    "    health = json.load(f)"
   ]
  },
  {
   "cell_type": "code",
   "execution_count": 17,
   "id": "40f9a4fb-83e1-4310-aea0-e6072d513ce9",
   "metadata": {},
   "outputs": [],
   "source": [
    "health_df = pd.DataFrame([[row[\"filename\"]+\".wav\", row[\"transcript\"]] for row in health], columns=[\"path\", \"sentence\"])"
   ]
  },
  {
   "cell_type": "code",
   "execution_count": 18,
   "id": "38ca7b6c-70cb-41a4-ba27-678a393a4763",
   "metadata": {},
   "outputs": [],
   "source": [
    "health_train, health_other = train_test_split(health_df, test_size=0.2)\n",
    "health_test, health_dev = train_test_split(health_other, test_size=0.5)"
   ]
  },
  {
   "cell_type": "code",
   "execution_count": 19,
   "id": "fb2711bb-a768-4197-8a1b-66bec6b98272",
   "metadata": {},
   "outputs": [],
   "source": [
    "health_train.to_csv(\"health_train.csv\", index=False)\n",
    "health_test.to_csv(\"health_test.csv\", index=False)\n",
    "health_dev.to_csv(\"health_dev.csv\", index=False)"
   ]
  },
  {
   "cell_type": "code",
   "execution_count": null,
   "id": "83e04723-3534-4ee1-80ee-b57b27669e41",
   "metadata": {},
   "outputs": [],
   "source": []
  }
 ],
 "metadata": {
  "kernelspec": {
   "display_name": "Python 3 (ipykernel)",
   "language": "python",
   "name": "python3"
  },
  "language_info": {
   "codemirror_mode": {
    "name": "ipython",
    "version": 3
   },
   "file_extension": ".py",
   "mimetype": "text/x-python",
   "name": "python",
   "nbconvert_exporter": "python",
   "pygments_lexer": "ipython3",
   "version": "3.11.5"
  }
 },
 "nbformat": 4,
 "nbformat_minor": 5
}
