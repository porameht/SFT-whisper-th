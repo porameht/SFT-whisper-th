{
 "cells": [
  {
   "cell_type": "code",
   "execution_count": null,
   "id": "b4a73d35-44b9-4bc2-b755-192481fc7f28",
   "metadata": {},
   "outputs": [],
   "source": [
    "# https://github.com/ekapolc/gowajee_corpus"
   ]
  },
  {
   "cell_type": "code",
   "execution_count": 14,
   "id": "50e8b583-6b9c-48c5-b82f-77afdd7d6176",
   "metadata": {},
   "outputs": [],
   "source": [
    "import pandas as pd"
   ]
  },
  {
   "cell_type": "code",
   "execution_count": 18,
   "id": "16629bd2-152f-445d-b80d-74a7ae059616",
   "metadata": {},
   "outputs": [],
   "source": [
    "def get_df(text_path: str, wav_path: str) -> pd.DataFrame:\n",
    "    data_id2text = dict()\n",
    "    with open(text_path, \"r\") as f:\n",
    "        for line in f:\n",
    "            line = line.strip().split(\" \")\n",
    "            data_id2text[line[0]] = \"\".join(line[1:])\n",
    "\n",
    "    data_path2id = dict()\n",
    "    with open(wav_path, \"r\") as f:\n",
    "        for line in f:\n",
    "            line = line.strip().split(\" \")\n",
    "            data_path2id[line[1]] = line[0]\n",
    "\n",
    "    data_path2text = { path : data_id2text[data_path2id[path]] for path in data_path2id }\n",
    "    df = pd.DataFrame([[path, data_path2text[path]] for path in data_path2text], columns=[\"path\", \"sentence\"])\n",
    "    \n",
    "    return df"
   ]
  },
  {
   "cell_type": "code",
   "execution_count": 19,
   "id": "d8d1c804-7f6d-4b79-a417-f23b97b74a76",
   "metadata": {},
   "outputs": [],
   "source": [
    "train = get_df(text_path=\"/mnt/d/data/gowajee_v0.9.2/v0.9.2/train/text\", wav_path=\"/mnt/d/data/gowajee_v0.9.2/v0.9.2/train/wav.scp\")\n",
    "test = get_df(text_path=\"/mnt/d/data/gowajee_v0.9.2/v0.9.2/test/text\", wav_path=\"/mnt/d/data/gowajee_v0.9.2/v0.9.2/test/wav.scp\")\n",
    "dev = get_df(text_path=\"/mnt/d/data/gowajee_v0.9.2/v0.9.2/dev/text\", wav_path=\"/mnt/d/data/gowajee_v0.9.2/v0.9.2/dev/wav.scp\")"
   ]
  },
  {
   "cell_type": "code",
   "execution_count": 23,
   "id": "9a7b00cb-043d-47c5-9c29-c0caba6dacc4",
   "metadata": {},
   "outputs": [],
   "source": [
    "train.to_csv(\"gowajee_train.csv\", index=False)"
   ]
  },
  {
   "cell_type": "code",
   "execution_count": 24,
   "id": "5770a1ca-202a-4f5c-ab84-1b1b1e04ee8f",
   "metadata": {},
   "outputs": [],
   "source": [
    "test.to_csv(\"gowajee_test.csv\", index=False)"
   ]
  },
  {
   "cell_type": "code",
   "execution_count": 25,
   "id": "ea7a72d8-dfe2-4112-b276-f1010fb27fde",
   "metadata": {},
   "outputs": [],
   "source": [
    "dev.to_csv(\"gowajee_dev.csv\", index=False)"
   ]
  },
  {
   "cell_type": "code",
   "execution_count": null,
   "id": "64a5d2e3-97b5-4f6a-b0f0-2e74f795e36c",
   "metadata": {},
   "outputs": [],
   "source": []
  }
 ],
 "metadata": {
  "kernelspec": {
   "display_name": "Python 3 (ipykernel)",
   "language": "python",
   "name": "python3"
  },
  "language_info": {
   "codemirror_mode": {
    "name": "ipython",
    "version": 3
   },
   "file_extension": ".py",
   "mimetype": "text/x-python",
   "name": "python",
   "nbconvert_exporter": "python",
   "pygments_lexer": "ipython3",
   "version": "3.11.5"
  }
 },
 "nbformat": 4,
 "nbformat_minor": 5
}
